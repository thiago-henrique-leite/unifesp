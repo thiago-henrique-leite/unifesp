{
 "cells": [
  {
   "cell_type": "code",
   "execution_count": 1,
   "id": "1cde0eee",
   "metadata": {
    "_cell_guid": "b1076dfc-b9ad-4769-8c92-a6c4dae69d19",
    "_uuid": "8f2839f25d086af736a60e9eeb907d3b93b6e0e5",
    "execution": {
     "iopub.execute_input": "2021-07-14T01:50:58.929591Z",
     "iopub.status.busy": "2021-07-14T01:50:58.928918Z",
     "iopub.status.idle": "2021-07-14T01:50:58.931827Z",
     "shell.execute_reply": "2021-07-14T01:50:58.932309Z",
     "shell.execute_reply.started": "2021-07-14T01:38:28.527392Z"
    },
    "papermill": {
     "duration": 0.032436,
     "end_time": "2021-07-14T01:50:58.932619",
     "exception": false,
     "start_time": "2021-07-14T01:50:58.900183",
     "status": "completed"
    },
    "tags": []
   },
   "outputs": [],
   "source": [
    "import numpy as np # linear algebra\n",
    "import pandas as pd # data processing, CSV file I/O (e.g. pd.read_csv)"
   ]
  },
  {
   "cell_type": "code",
   "execution_count": 2,
   "id": "c33fd7d1",
   "metadata": {
    "execution": {
     "iopub.execute_input": "2021-07-14T01:50:58.964913Z",
     "iopub.status.busy": "2021-07-14T01:50:58.964271Z",
     "iopub.status.idle": "2021-07-14T01:50:58.980821Z",
     "shell.execute_reply": "2021-07-14T01:50:58.980132Z",
     "shell.execute_reply.started": "2021-07-14T01:49:54.939108Z"
    },
    "papermill": {
     "duration": 0.034943,
     "end_time": "2021-07-14T01:50:58.980961",
     "exception": false,
     "start_time": "2021-07-14T01:50:58.946018",
     "status": "completed"
    },
    "tags": []
   },
   "outputs": [],
   "source": [
    "stop_words = open(\"../input/stopwords/stopwords.txt\", \"r\",  encoding=\"utf8\")\n",
    "\n",
    "array_stop_words = []\n",
    "\n",
    "stop_words_lines = stop_words.readlines()\n",
    "\n",
    "for line in stop_words_lines:\n",
    "    array_stop_words.append(line.strip())"
   ]
  },
  {
   "cell_type": "code",
   "execution_count": 3,
   "id": "a7de55e5",
   "metadata": {
    "execution": {
     "iopub.execute_input": "2021-07-14T01:50:59.018776Z",
     "iopub.status.busy": "2021-07-14T01:50:59.018113Z",
     "iopub.status.idle": "2021-07-14T01:50:59.021338Z",
     "shell.execute_reply": "2021-07-14T01:50:59.020824Z",
     "shell.execute_reply.started": "2021-07-14T01:38:28.578649Z"
    },
    "papermill": {
     "duration": 0.027479,
     "end_time": "2021-07-14T01:50:59.021471",
     "exception": false,
     "start_time": "2021-07-14T01:50:58.993992",
     "status": "completed"
    },
    "tags": []
   },
   "outputs": [],
   "source": [
    "class ReadFileText:\n",
    "            \n",
    "    def __init__(self, text_file_path, permission):\n",
    "        self.text_file_path = text_file_path\n",
    "        self.permission = permission\n",
    "        \n",
    "        self.perform()\n",
    "        \n",
    "    def perform(self):\n",
    "        self.open_file()\n",
    "        self.get_words()\n",
    "        #self.close_file()\n",
    "        \n",
    "        return self.file_text_words\n",
    "\n",
    "    def open_file(self):\n",
    "        self.file_text = open(self.text_file_path, self.permission)\n",
    "    \n",
    "    def delete_invalid_chars(self, text):\n",
    "        for char in \"'.!?,<>()-0123456789*\\+_!@][#$%:|;\" :\n",
    "            text = text.replace(char, ' ')\n",
    "            text = text.replace('\"', ' ')\n",
    "            text = text.replace('=', ' ')\n",
    "            text = text.replace('/', ' ')\n",
    "            text = text.replace('~', ' ')\n",
    "            text = text.replace('^', ' ')\n",
    "            text = text.replace(',', ' ')\n",
    "\n",
    "        return text\n",
    "    \n",
    "    def get_words(self):\n",
    "        self.file_text_words = []\n",
    "        \n",
    "        with self.file_text as f:\n",
    "            for line in f:\n",
    "                words = self.delete_invalid_chars(line.decode(errors='ignore')).split()\n",
    "\n",
    "                for word in words:\n",
    "                    if word.lower() not in array_stop_words:\n",
    "                        self.file_text_words.append(word.lower())\n",
    "    \n",
    "    def close_file(self):\n",
    "        file_text.close()"
   ]
  },
  {
   "cell_type": "code",
   "execution_count": 4,
   "id": "d3cd5b53",
   "metadata": {
    "execution": {
     "iopub.execute_input": "2021-07-14T01:50:59.052433Z",
     "iopub.status.busy": "2021-07-14T01:50:59.051783Z",
     "iopub.status.idle": "2021-07-14T01:51:08.118567Z",
     "shell.execute_reply": "2021-07-14T01:51:08.119139Z",
     "shell.execute_reply.started": "2021-07-14T01:38:28.594542Z"
    },
    "papermill": {
     "duration": 9.085042,
     "end_time": "2021-07-14T01:51:08.119384",
     "exception": false,
     "start_time": "2021-07-14T01:50:59.034342",
     "status": "completed"
    },
    "tags": []
   },
   "outputs": [],
   "source": [
    "soc_religion_christian_words = ReadFileText(\"../input/20-newsgroups/soc.religion.christian.txt\", \"rb\").file_text_words"
   ]
  },
  {
   "cell_type": "code",
   "execution_count": 5,
   "id": "70816b58",
   "metadata": {
    "execution": {
     "iopub.execute_input": "2021-07-14T01:51:08.151180Z",
     "iopub.status.busy": "2021-07-14T01:51:08.150482Z",
     "iopub.status.idle": "2021-07-14T01:51:16.439722Z",
     "shell.execute_reply": "2021-07-14T01:51:16.439075Z",
     "shell.execute_reply.started": "2021-07-14T01:38:36.581572Z"
    },
    "papermill": {
     "duration": 8.306926,
     "end_time": "2021-07-14T01:51:16.439892",
     "exception": false,
     "start_time": "2021-07-14T01:51:08.132966",
     "status": "completed"
    },
    "tags": []
   },
   "outputs": [],
   "source": [
    "sci_crypt_words = ReadFileText(\"../input/20-newsgroups/sci.crypt.txt\", \"rb\").file_text_words"
   ]
  },
  {
   "cell_type": "code",
   "execution_count": 6,
   "id": "bb916312",
   "metadata": {
    "execution": {
     "iopub.execute_input": "2021-07-14T01:51:16.511874Z",
     "iopub.status.busy": "2021-07-14T01:51:16.506873Z",
     "iopub.status.idle": "2021-07-14T01:51:24.828860Z",
     "shell.execute_reply": "2021-07-14T01:51:24.828249Z",
     "shell.execute_reply.started": "2021-07-14T01:38:43.830326Z"
    },
    "papermill": {
     "duration": 8.37545,
     "end_time": "2021-07-14T01:51:24.829017",
     "exception": false,
     "start_time": "2021-07-14T01:51:16.453567",
     "status": "completed"
    },
    "tags": []
   },
   "outputs": [],
   "source": [
    "def convert_array_in_hash_with_frequency(array_words):\n",
    "    words_count = {}\n",
    "    \n",
    "    for word in array_words:\n",
    "        lower_word = word.lower()\n",
    "        if lower_word not in array_stop_words:\n",
    "            if lower_word not in words_count.keys():\n",
    "                words_count[lower_word] = 1\n",
    "            else:\n",
    "                words_count[lower_word] += 1\n",
    "            \n",
    "    return words_count\n",
    "\n",
    "soc_religion_christian_words_count = convert_array_in_hash_with_frequency(soc_religion_christian_words)\n",
    "sci_crypt_words_count = convert_array_in_hash_with_frequency(sci_crypt_words)"
   ]
  },
  {
   "cell_type": "code",
   "execution_count": 7,
   "id": "30ef74c7",
   "metadata": {
    "execution": {
     "iopub.execute_input": "2021-07-14T01:51:24.895935Z",
     "iopub.status.busy": "2021-07-14T01:51:24.874976Z",
     "iopub.status.idle": "2021-07-14T01:51:30.831793Z",
     "shell.execute_reply": "2021-07-14T01:51:30.832301Z",
     "shell.execute_reply.started": "2021-07-14T01:38:51.332233Z"
    },
    "papermill": {
     "duration": 5.989978,
     "end_time": "2021-07-14T01:51:30.832498",
     "exception": false,
     "start_time": "2021-07-14T01:51:24.842520",
     "status": "completed"
    },
    "tags": []
   },
   "outputs": [],
   "source": [
    "fieldnames_text_1 = list(soc_religion_christian_words_count.keys())\n",
    "fieldnames_text_2 = list(sci_crypt_words_count.keys())\n",
    "\n",
    "fieldnames_general = fieldnames_text_1 + fieldnames_text_2\n",
    "\n",
    "def get_uniq_values_in_list(array):\n",
    "    array_with_uniq_values = []\n",
    "    \n",
    "    for word in array:\n",
    "        if word not in array_with_uniq_values:\n",
    "            array_with_uniq_values.append(word)\n",
    "            \n",
    "    return array_with_uniq_values\n",
    "    \n",
    "    \n",
    "uniq_fieldnames_general = get_uniq_values_in_list(fieldnames_general)\n",
    "uniq_fieldnames_general.insert(0, 'rotulo')"
   ]
  },
  {
   "cell_type": "code",
   "execution_count": 8,
   "id": "a2b8e36d",
   "metadata": {
    "execution": {
     "iopub.execute_input": "2021-07-14T01:51:30.878916Z",
     "iopub.status.busy": "2021-07-14T01:51:30.867804Z",
     "iopub.status.idle": "2021-07-14T01:51:39.941736Z",
     "shell.execute_reply": "2021-07-14T01:51:39.941098Z",
     "shell.execute_reply.started": "2021-07-14T01:38:56.885790Z"
    },
    "papermill": {
     "duration": 9.095996,
     "end_time": "2021-07-14T01:51:39.941894",
     "exception": false,
     "start_time": "2021-07-14T01:51:30.845898",
     "status": "completed"
    },
    "tags": []
   },
   "outputs": [],
   "source": [
    "import csv\n",
    "\n",
    "line1 = {}\n",
    "\n",
    "for word in uniq_fieldnames_general:\n",
    "    if word not in fieldnames_text_1:\n",
    "        line1[word] = 0\n",
    "    else:\n",
    "        line1[word] = soc_religion_christian_words_count[word]\n",
    "        \n",
    "line1['rotulo'] = 0\n",
    "\n",
    "formmated_text1_words_count = line1\n",
    "\n",
    "line2 = {}\n",
    "\n",
    "for word in uniq_fieldnames_general:\n",
    "    if word not in fieldnames_text_2:\n",
    "        line2[word] = 0\n",
    "    else:\n",
    "        line2[word] = sci_crypt_words_count[word]\n",
    "        \n",
    "line2['rotulo'] = 1\n",
    "\n",
    "formmated_text2_words_count = line2\n",
    "\n",
    "bag_of_words = open('bag_of_words.csv', mode='w', newline='')\n",
    "\n",
    "with bag_of_words as csv_file:\n",
    "    writer = csv.DictWriter(csv_file, fieldnames=uniq_fieldnames_general)\n",
    "\n",
    "    writer.writeheader()\n",
    "    writer.writerow(line1)\n",
    "    writer.writerow(line2)"
   ]
  },
  {
   "cell_type": "code",
   "execution_count": 9,
   "id": "d346d603",
   "metadata": {
    "execution": {
     "iopub.execute_input": "2021-07-14T01:51:40.153831Z",
     "iopub.status.busy": "2021-07-14T01:51:40.138006Z",
     "iopub.status.idle": "2021-07-14T01:51:40.454280Z",
     "shell.execute_reply": "2021-07-14T01:51:40.453433Z",
     "shell.execute_reply.started": "2021-07-14T01:39:05.329387Z"
    },
    "papermill": {
     "duration": 0.499229,
     "end_time": "2021-07-14T01:51:40.454456",
     "exception": false,
     "start_time": "2021-07-14T01:51:39.955227",
     "status": "completed"
    },
    "tags": []
   },
   "outputs": [
    {
     "name": "stdout",
     "output_type": "stream",
     "text": [
      "{'prayed': 1, 'christ': 1, 'glory': 1, 'enemies': 1}\n",
      "{'seized': 1, 'sear': 1, 'name': 1, 'lord': 1, 'jesus': 1, 'held': 1, 'high': 1, 'honour': 1}\n",
      "{'hell': 1, 'real': 1, 'bad': 1, 'individ': 1}\n",
      "{'law': 1, 'transgression': 1}\n",
      "{'people': 1, 'able': 1, 'live': 1, 'that,': 1, 'little': 1, 'purposes': 1, 'suffice': 1}\n",
      "{'world': 1, 'school': 1, 'sorts': 1, 'learn': 1, 'grow': 1, 'souls': 1, 'mature': 1}\n",
      "{'true': 1, 'reality': 1, 'physical': 1, 'spirit': 1}\n",
      "{'high': 1, 'tech': 1}\n",
      "{'users': 1, 'cryptanalysts': 1, 'benefit': 1, 'technology': 1, 'way': 1}\n",
      "{'now': 1, 'may': 1, 'conclude': 1, 'society': 1, 'grotesquely': 1, 'oppressive': 1, 'enforce': 1, 'law': 1, 'type': 1, 'simply': 1, 'affront': 1, 'dignity': 1, 'human': 1, 'beings': 1}\n",
      "{'way': 1, 'authenticate': 1, 'exchanges': 1, 'rsa': 1}\n",
      "{'access': 1, 'keys': 1, 'will': 1, 'limited': 1, 'government': 1, 'officials': 1, 'legal': 1, 'authorization': 1, 'conduct': 1, 'wiretap': 1}\n",
      "{'maybe': 1, 'convince': 1, 'people': 1, 'distributed': 1, 'computing': 1, 'idea': 1, 'internal': 1, 'state': 1, 'process': 1, 'access': 1, 'wiretapping': 1}\n"
     ]
    }
   ],
   "source": [
    "bag_of_words_phrases = open('bag_of_words_phrases.csv', mode='w', newline='')\n",
    "\n",
    "def get_bag_of_words_phrase(phrase, rotulo):\n",
    "    line = {}\n",
    "    word_frequency = convert_array_in_hash_with_frequency(phrase.split())\n",
    "    \n",
    "    print(word_frequency)\n",
    "    for word in uniq_fieldnames_general:\n",
    "        if word in ['rotulo']:\n",
    "            line[word] = rotulo\n",
    "        else:\n",
    "            if word not in word_frequency.keys():\n",
    "                line[word] = 0\n",
    "            else:\n",
    "                line[word] = word_frequency[word]\n",
    "    \n",
    "    return line\n",
    "\n",
    "line1 = get_bag_of_words_phrase(\"Rather they are to be prayed in Christ for His glory and against His enemies\", 0)\n",
    "line2 = get_bag_of_words_phrase(\"They were all seized with Sear and the Name of the Lord Jesus was held in high honour\", 0)\n",
    "line3 = get_bag_of_words_phrase(\"Indeed Hell is very real and things are that bad for the individ\", 0)\n",
    "line4 = get_bag_of_words_phrase(\"where no law is there is no transgression\", 0)\n",
    "line5 = get_bag_of_words_phrase(\"Most people are able to live with that, and for them little purposes suffice\", 0)\n",
    "line6 = get_bag_of_words_phrase(\"That this world is a school of sorts where we learn and grow and our souls mature\", 0)\n",
    "line7 = get_bag_of_words_phrase(\"That the true reality underneath the the physical is spirit\", 0)\n",
    "\n",
    "line8 = get_bag_of_words_phrase(\"They used to be high tech\", 1)\n",
    "line9 = get_bag_of_words_phrase(\"Both users and cryptanalysts benefit from better technology in the same way\", 1)\n",
    "line10 = get_bag_of_words_phrase(\"Now  you  may  conclude  that  a society so grotesquely oppressive as to enforce a law of this  type  is  simply  an affront to the dignity of all human beings\", 1)\n",
    "line11 = get_bag_of_words_phrase(\"A better way is to authenticate the exchanges with RSA\", 1)\n",
    "line12 = get_bag_of_words_phrase(\"Access to these keys will be limited to government officials with legal authorization to conduct a wiretap\", 1)\n",
    "line13 = get_bag_of_words_phrase(\"Maybe they could convince people that distributed computing was a good idea so that even the internal state of a process would be available for access by wiretapping\", 1)\n",
    "\n",
    "with bag_of_words_phrases as csv_file:\n",
    "    writer = csv.DictWriter(csv_file, fieldnames=uniq_fieldnames_general)\n",
    "\n",
    "    writer.writeheader()\n",
    "    writer.writerow(line1)\n",
    "    writer.writerow(line2)\n",
    "    writer.writerow(line3)\n",
    "    writer.writerow(line4)\n",
    "    writer.writerow(line5)\n",
    "    writer.writerow(line6)\n",
    "    writer.writerow(line7)\n",
    "    writer.writerow(line8)\n",
    "    writer.writerow(line9)\n",
    "    writer.writerow(line10)\n",
    "    writer.writerow(line11)\n",
    "    writer.writerow(line12)\n",
    "    writer.writerow(line13)"
   ]
  },
  {
   "cell_type": "code",
   "execution_count": 10,
   "id": "e837ce14",
   "metadata": {
    "execution": {
     "iopub.execute_input": "2021-07-14T01:51:40.514595Z",
     "iopub.status.busy": "2021-07-14T01:51:40.504909Z",
     "iopub.status.idle": "2021-07-14T01:51:40.643427Z",
     "shell.execute_reply": "2021-07-14T01:51:40.642762Z",
     "shell.execute_reply.started": "2021-07-14T01:39:05.737188Z"
    },
    "papermill": {
     "duration": 0.17507,
     "end_time": "2021-07-14T01:51:40.643587",
     "exception": false,
     "start_time": "2021-07-14T01:51:40.468517",
     "status": "completed"
    },
    "tags": []
   },
   "outputs": [
    {
     "name": "stdout",
     "output_type": "stream",
     "text": [
      "{'bible': 1, 'teaches': 1, 'heaven': 1}\n",
      "{'am': 1, 'looking': 1, 'references': 1, 'algorithms': 1, 'can': 1, 'password': 1, 'encryption': 1}\n",
      "{'study': 1, 'religion': 1, 'read': 1, 'bible': 1}\n",
      "{'meant': 1, 'long': 1, 'only': 1, 'advantage': 1, 'cryptanalyst': 1, 'faster': 1, 'computer': 1}\n",
      "{'will': 1, 'known': 1, 'ends': 1, 'earth': 1, 'god': 1, 'rules': 1}\n",
      "{'fundamental': 1, 'strength': 2, 'des': 1, 'rsa': 1, 'nearly': 1, 'important': 1, 'know': 1}\n"
     ]
    }
   ],
   "source": [
    "tests = open('tests.csv', mode='w', newline='')\n",
    "                    \n",
    "line1 = get_bag_of_words_phrase(\"The Bible teaches that no one is good enough in himself to go to Heaven\", 0)\n",
    "line2 = get_bag_of_words_phrase(\"I am looking for references to algorithms which can be used for password encryption\", 1)\n",
    "line3 = get_bag_of_words_phrase(\"I study religion and read the Bible\", 0)\n",
    "line4 = get_bag_of_words_phrase(\"What I meant was that as long as the only advantage of the cryptanalyst is a faster computer\", 1)\n",
    "line5 = get_bag_of_words_phrase(\"Then it will be known to the ends of the earth that God rules\", 0)\n",
    "line6 = get_bag_of_words_phrase(\"The fundamental strength of the DES and RSA are not nearly so important as what we know about their strength\", 1)\n",
    "                    \n",
    "with tests as csv_file:\n",
    "    writer = csv.DictWriter(csv_file, fieldnames=uniq_fieldnames_general)\n",
    "\n",
    "    writer.writeheader()\n",
    "    writer.writerow(line1)\n",
    "    writer.writerow(line2)\n",
    "    writer.writerow(line3)\n",
    "    writer.writerow(line4)\n",
    "    writer.writerow(line5)\n",
    "    writer.writerow(line6)"
   ]
  },
  {
   "cell_type": "code",
   "execution_count": 11,
   "id": "418a3182",
   "metadata": {
    "execution": {
     "iopub.execute_input": "2021-07-14T01:51:40.679466Z",
     "iopub.status.busy": "2021-07-14T01:51:40.678238Z",
     "iopub.status.idle": "2021-07-14T01:51:46.830369Z",
     "shell.execute_reply": "2021-07-14T01:51:46.829321Z",
     "shell.execute_reply.started": "2021-07-14T01:39:05.906866Z"
    },
    "papermill": {
     "duration": 6.172768,
     "end_time": "2021-07-14T01:51:46.830565",
     "exception": false,
     "start_time": "2021-07-14T01:51:40.657797",
     "status": "completed"
    },
    "tags": []
   },
   "outputs": [],
   "source": [
    "bag_of_words = pd.read_csv(\"./bag_of_words.csv\")\n",
    "bag_of_words_phrases = pd.read_csv(\"./bag_of_words_phrases.csv\")\n",
    "tests = pd.read_csv(\"./tests.csv\")"
   ]
  },
  {
   "cell_type": "code",
   "execution_count": 12,
   "id": "e897d89c",
   "metadata": {
    "execution": {
     "iopub.execute_input": "2021-07-14T01:51:46.865339Z",
     "iopub.status.busy": "2021-07-14T01:51:46.864590Z",
     "iopub.status.idle": "2021-07-14T01:51:46.866703Z",
     "shell.execute_reply": "2021-07-14T01:51:46.867250Z",
     "shell.execute_reply.started": "2021-07-14T01:39:10.177901Z"
    },
    "papermill": {
     "duration": 0.022846,
     "end_time": "2021-07-14T01:51:46.867445",
     "exception": false,
     "start_time": "2021-07-14T01:51:46.844599",
     "status": "completed"
    },
    "tags": []
   },
   "outputs": [],
   "source": [
    "tests = [\"the bible teaches that no one is good enough in himself to go to heaven\",\n",
    "\"i am looking for references to algorithms which can be used for password encryption\",\n",
    "\"i study religion and read the bible\",\n",
    "\"what i meant was that as long as the only advantage of the cryptanalyst is a faster computer\",\n",
    "\"then it will be known to the ends of the earth that god rules\",\n",
    "\"the fundamental strength of the des and rsa are not nearly so important as what we know about their strength\"]\n",
    "\n",
    "tests_results = [1,2,1,2,1,2]"
   ]
  },
  {
   "cell_type": "code",
   "execution_count": 13,
   "id": "30398067",
   "metadata": {
    "execution": {
     "iopub.execute_input": "2021-07-14T01:51:46.899107Z",
     "iopub.status.busy": "2021-07-14T01:51:46.898342Z",
     "iopub.status.idle": "2021-07-14T01:51:46.918449Z",
     "shell.execute_reply": "2021-07-14T01:51:46.918997Z",
     "shell.execute_reply.started": "2021-07-14T01:39:10.185707Z"
    },
    "papermill": {
     "duration": 0.037839,
     "end_time": "2021-07-14T01:51:46.919223",
     "exception": false,
     "start_time": "2021-07-14T01:51:46.881384",
     "status": "completed"
    },
    "tags": []
   },
   "outputs": [],
   "source": [
    "class NaiveBayes:\n",
    "    \n",
    "    def __init__(self, bag_of_words, bag_of_words_phrases, tests, tests_results):\n",
    "        self.bag_of_words = bag_of_words\n",
    "        self.bag_of_words_phrases = bag_of_words_phrases\n",
    "        self.tests_results = tests_results\n",
    "         \n",
    "        self.text1_words_count = formmated_text1_words_count\n",
    "        self.text2_words_count = formmated_text2_words_count \n",
    "        self.text_words_classify()\n",
    "        \n",
    "    def perform(self): \n",
    "        self.print_results()\n",
    "        \n",
    "        index = 0\n",
    "        checks = 0\n",
    "        wrongs = 0\n",
    "        \n",
    "        for test in tests:                \n",
    "            prob_text1 = self.p_text1() * self.p_phrase_text1(test)\n",
    "            prob_text2 = self.p_text2() * self.p_phrase_text2(test)\n",
    "            \n",
    "            print(\"Frase: '\" + test + \"':\")\n",
    "            \n",
    "            print(\"Classificação: \", end=\"\")\n",
    "            if(prob_text1 > prob_text2):\n",
    "                print(\"Texto 01\", end=\"\")\n",
    "                result = 1\n",
    "            else:\n",
    "                print(\"Texto 02\", end=\"\")\n",
    "                result = 2\n",
    "            \n",
    "            if(result == tests_results[index]):\n",
    "                print(\" ✓\\n\")\n",
    "                checks += 1\n",
    "            else:\n",
    "                print(\" ✗\\n\")\n",
    "                wrongs += 1\n",
    "                \n",
    "            \n",
    "            index += 1\n",
    "            \n",
    "        print(\"\\nAcurácia do algoritmo: \" + str(checks) + \"/\" + str(len(tests)) + \" acertos.\")\n",
    "        print(str(checks / len(tests) * 100) + \"%\")\n",
    "                            \n",
    "    def print_results(self):\n",
    "        print(\"Processamento de Linguagem Natural\\n\")\n",
    "        print(\"Algoritmo Naive Bayes\\n\")\n",
    "        print(\"Texto 01: soc.religion.christian\")\n",
    "        print(\"Texto 02: sci.crypt\\n\")\n",
    "        print(\"Foram utilizadas 13 frases para treino e 6 frases para teste\\n\")\n",
    "        print(\"Tamanho do vocabulário utilizado: \" + str(self.len_vocabulary()) + \" palavras.\\n\")\n",
    "        print(\"Palavras com mais ocorrências no Texto 01: \" + str(self.text_1_total_words))\n",
    "        print(\"Palavras com mais ocorrências no Texto 02: \" + str(self.text_2_total_words) + \"\\n\")\n",
    "        print(\"Probabilidade de uma frase ser do Texto 01: \" + str(round(self.p_text1() / self.p_general(), 2)) + \" %\")\n",
    "        print(\"Probabilidade de uma frase ser do Texto 02: \" + str(round(self.p_text2() / self.p_general(), 2)) + \" %\\n\")\n",
    "        print(\"\\nExecução dos testes:\\n\")\n",
    "        \n",
    "    def p_phrase_text1(self, phrase_test):\n",
    "        prob = 1\n",
    "\n",
    "        for word in phrase_test.split():\n",
    "            if word not in array_stop_words:\n",
    "                prob = prob * self.p_word_text1(word)\n",
    "        \n",
    "        return prob\n",
    "    \n",
    "    def p_phrase_text2(self, phrase_test):\n",
    "        prob = 1\n",
    "        \n",
    "        for word in phrase_test.split():\n",
    "            if word not in array_stop_words:\n",
    "                prob = prob * self.p_word_text2(word)\n",
    "        \n",
    "        return prob\n",
    "    \n",
    "    def p_word_text1(self, word): \n",
    "        return (self.text1_words_count[word] + 1) / (self.text_1_total_words + self.len_vocabulary())\n",
    "    \n",
    "    def p_word_text2(self, word):\n",
    "        return (self.text2_words_count[word] + 1) / (self.text_2_total_words + self.len_vocabulary())\n",
    "    \n",
    "    def text_words_classify(self):\n",
    "        self.text_1_total_words = 0\n",
    "        self.text_2_total_words = 0\n",
    "                \n",
    "        for word in uniq_fieldnames_general:\n",
    "            if self.text1_words_count[word] > self.text2_words_count[word]:\n",
    "                self.text_1_total_words += 1\n",
    "            else:\n",
    "                self.text_2_total_words += 1\n",
    "        \n",
    "    def len_vocabulary(self):\n",
    "        return len(bag_of_words.values[0]) - 1\n",
    "    \n",
    "    def p_text1(self):\n",
    "        return len(bag_of_words_phrases[bag_of_words_phrases['rotulo']==0].values)\n",
    "    \n",
    "    def p_text2(self):\n",
    "        return len(bag_of_words_phrases[bag_of_words_phrases['rotulo']==1].values)\n",
    "    \n",
    "    def p_general(self):\n",
    "        return len(bag_of_words_phrases.values)\n",
    "    "
   ]
  },
  {
   "cell_type": "code",
   "execution_count": 14,
   "id": "feba1dc9",
   "metadata": {
    "execution": {
     "iopub.execute_input": "2021-07-14T01:51:46.950368Z",
     "iopub.status.busy": "2021-07-14T01:51:46.949723Z",
     "iopub.status.idle": "2021-07-14T01:51:47.023428Z",
     "shell.execute_reply": "2021-07-14T01:51:47.023937Z",
     "shell.execute_reply.started": "2021-07-14T01:39:10.208863Z"
    },
    "papermill": {
     "duration": 0.090939,
     "end_time": "2021-07-14T01:51:47.024165",
     "exception": false,
     "start_time": "2021-07-14T01:51:46.933226",
     "status": "completed"
    },
    "tags": []
   },
   "outputs": [
    {
     "name": "stdout",
     "output_type": "stream",
     "text": [
      "Processamento de Linguagem Natural\n",
      "\n",
      "Algoritmo Naive Bayes\n",
      "\n",
      "Texto 01: soc.religion.christian\n",
      "Texto 02: sci.crypt\n",
      "\n",
      "Foram utilizadas 13 frases para treino e 6 frases para teste\n",
      "\n",
      "Tamanho do vocabulário utilizado: 26373 palavras.\n",
      "\n",
      "Palavras com mais ocorrências no Texto 01: 13254\n",
      "Palavras com mais ocorrências no Texto 02: 13120\n",
      "\n",
      "Probabilidade de uma frase ser do Texto 01: 0.54 %\n",
      "Probabilidade de uma frase ser do Texto 02: 0.46 %\n",
      "\n",
      "\n",
      "Execução dos testes:\n",
      "\n",
      "Frase: 'the bible teaches that no one is good enough in himself to go to heaven':\n",
      "Classificação: Texto 01 ✓\n",
      "\n",
      "Frase: 'i am looking for references to algorithms which can be used for password encryption':\n",
      "Classificação: Texto 02 ✓\n",
      "\n",
      "Frase: 'i study religion and read the bible':\n",
      "Classificação: Texto 01 ✓\n",
      "\n",
      "Frase: 'what i meant was that as long as the only advantage of the cryptanalyst is a faster computer':\n",
      "Classificação: Texto 02 ✓\n",
      "\n",
      "Frase: 'then it will be known to the ends of the earth that god rules':\n",
      "Classificação: Texto 01 ✓\n",
      "\n",
      "Frase: 'the fundamental strength of the des and rsa are not nearly so important as what we know about their strength':\n",
      "Classificação: Texto 02 ✓\n",
      "\n",
      "\n",
      "Acurácia do algoritmo: 6/6 acertos.\n",
      "100.0%\n"
     ]
    }
   ],
   "source": [
    "NaiveBayes(bag_of_words, bag_of_words_phrases, tests, tests_results).perform()"
   ]
  }
 ],
 "metadata": {
  "kernelspec": {
   "display_name": "Python 3",
   "language": "python",
   "name": "python3"
  },
  "language_info": {
   "codemirror_mode": {
    "name": "ipython",
    "version": 3
   },
   "file_extension": ".py",
   "mimetype": "text/x-python",
   "name": "python",
   "nbconvert_exporter": "python",
   "pygments_lexer": "ipython3",
   "version": "3.7.10"
  },
  "papermill": {
   "default_parameters": {},
   "duration": 57.490044,
   "end_time": "2021-07-14T01:51:47.849812",
   "environment_variables": {},
   "exception": null,
   "input_path": "__notebook__.ipynb",
   "output_path": "__notebook__.ipynb",
   "parameters": {},
   "start_time": "2021-07-14T01:50:50.359768",
   "version": "2.3.3"
  }
 },
 "nbformat": 4,
 "nbformat_minor": 5
}
